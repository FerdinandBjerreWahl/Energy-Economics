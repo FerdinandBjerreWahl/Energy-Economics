{
 "cells": [
  {
   "cell_type": "code",
   "execution_count": 1,
   "id": "1dd45e99",
   "metadata": {},
   "outputs": [],
   "source": [
    "import pandas as pd\n",
    "import matplotlib.pyplot as plt\n",
    "import statsmodels.api as sm\n",
    "import numpy as np\n",
    "from statsmodels.tsa.stattools import adfuller\n",
    "import statsmodels.api as sm\n",
    "import statsmodels.stats.api as sms\n",
    "from datetime import datetime\n",
    "from statsmodels.compat import lzip\n",
    "from DATA import read_power_data\n",
    "from DATA import calculate_capture_factors\n",
    "from DATA import calculate_volatility\n",
    "from DATA import filter_dates_by_interval"
   ]
  },
  {
   "cell_type": "markdown",
   "id": "6ea138d9",
   "metadata": {},
   "source": [
    "### DATA filtering "
   ]
  },
  {
   "cell_type": "code",
   "execution_count": 2,
   "id": "ae2bbb54",
   "metadata": {},
   "outputs": [
    {
     "name": "stderr",
     "output_type": "stream",
     "text": [
      "C:\\Users\\Bruger\\anaconda3\\ASEM\\Energy-Economics\\DATA.py:104: SettingWithCopyWarning: \n",
      "A value is trying to be set on a copy of a slice from a DataFrame.\n",
      "Try using .loc[row_indexer,col_indexer] = value instead\n",
      "\n",
      "See the caveats in the documentation: https://pandas.pydata.org/pandas-docs/stable/user_guide/indexing.html#returning-a-view-versus-a-copy\n",
      "  capture_factors['Date'] = pd.to_datetime(capture_factors['Date'])\n"
     ]
    }
   ],
   "source": [
    "Power_DATA = read_power_data()\n",
    "energy_sources = ['Wind offshore', 'Wind onshore', 'Solar']\n",
    "frequency = 'daily' # or 'monthly', 'yearly'\n",
    "percentage_change_df = calculate_capture_factors(Power_DATA, energy_sources,frequency)\n",
    "weighted_volatility_reset = calculate_volatility(Power_DATA,frequency=frequency)\n",
    "ANALYSE_DATA = pd.merge(percentage_change_df, weighted_volatility_reset, on='Date', how='inner')"
   ]
  },
  {
   "cell_type": "code",
   "execution_count": null,
   "id": "127839e9",
   "metadata": {},
   "outputs": [],
   "source": [
    "column_name_solar = 'Capture_Factor_Solar'\n",
    "interval_start = -1\n",
    "interval_end = 1\n",
    "date = pd.Timestamp(2023, 1, 1)\n",
    "ANALYSE_DATA_F = filter_dates_by_interval(ANALYSE_DATA, column_name_solar, interval_start, interval_end, date)\n",
    "ANALYSE_DATA_F.to_csv('OX_DATA.csv')\n",
    "ANALYSE_DATA_F"
   ]
  },
  {
   "cell_type": "markdown",
   "id": "31a92c8b",
   "metadata": {},
   "source": [
    "### Plots"
   ]
  },
  {
   "cell_type": "code",
   "execution_count": null,
   "id": "8c755e6a",
   "metadata": {},
   "outputs": [],
   "source": [
    "plt.figure(figsize=(10, 6))\n",
    "\n",
    "plt.plot(ANALYSE_DATA_F['Date'], ANALYSE_DATA_F['Capture_Factor_Solar'], marker='o', color='yellow', linestyle='-', label='Solar')\n",
    "#plt.plot(ANALYSE_DATA_F['Date'], ANALYSE_DATA_F['Capture_Factor_Wind_Offshore'], marker='o', color='blue', linestyle='-', label='MW Wind Offshore')\n",
    "#plt.plot(ANALYSE_DATA_F['Date'], ANALYSE_DATA_F['Capture_Factor_Wind_Onshore'] , marker='o', color='lightblue', linestyle='-', label='MW Wind Onshore')\n",
    "\n",
    "plt.title('Capture-factor over Time')\n",
    "plt.xlabel('Date')\n",
    "plt.ylabel('Capture-factor')\n",
    "plt.grid(True)\n",
    "plt.xticks(rotation=45)\n",
    "plt.tight_layout()\n",
    "plt.legend()\n",
    "plt.show()\n",
    "\n",
    "plt.plot(ANALYSE_DATA_F['Date'], ANALYSE_DATA_F['Weighted_volatility_adj'], marker='o', color='red', linestyle='-', label='Weighted_volatility')\n",
    "\n",
    "plt.title('Weighted_volatility over time')\n",
    "plt.xlabel('Date')\n",
    "plt.ylabel('Weighted_volatility')\n",
    "plt.grid(True)\n",
    "plt.xticks(rotation=45)\n",
    "plt.tight_layout()\n",
    "plt.legend()\n",
    "plt.show()"
   ]
  },
  {
   "cell_type": "markdown",
   "id": "f36258de",
   "metadata": {},
   "source": [
    "### Empirical analysis"
   ]
  },
  {
   "cell_type": "code",
   "execution_count": null,
   "id": "f7886fb6",
   "metadata": {},
   "outputs": [],
   "source": [
    "# Define the independent variables including the constant\n",
    "X = sm.add_constant(ANALYSE_DATA_F['Capture_Factor_Solar'])\n",
    "\n",
    "# Define the dependent variable\n",
    "y = ANALYSE_DATA_F['Weighted_volatility_adj']\n",
    "\n",
    "# Fit the regression model\n",
    "model = sm.RLM(y, X).fit()\n",
    "\n",
    "# Print the summary of the model\n",
    "print(model.summary())"
   ]
  },
  {
   "cell_type": "code",
   "execution_count": null,
   "id": "ba703080",
   "metadata": {},
   "outputs": [],
   "source": [
    "# Assuming you have your data in a DataFrame called 'ANALYSE_DATA'\n",
    "\n",
    "# Define the independent variable including the constant\n",
    "X = sm.add_constant(ANALYSE_DATA['Capture_Factor_Solar'])\n",
    "\n",
    "# Define the dependent variable\n",
    "y = ANALYSE_DATA['Weighted_volatility_adj']\n",
    "\n",
    "# Fit the robust linear regression model\n",
    "model = sm.RLM(y, X).fit()\n",
    "\n",
    "# Print the summary of the model\n",
    "print(model.summary())\n",
    "\n",
    "# Residuals\n",
    "residuals = model.resid\n",
    "\n",
    "\n",
    "# Perform Breusch-Pagan test for heteroscedasticity\n",
    "name = ['Lagrange multiplier statistic', 'p-value', 'f-value', 'f p-value']\n",
    "#test = sm.stats.diagnostic.het_breuschpagan(residuals, X)\n",
    "#print(\"Breusch-Pagan Test (LM, p-value, f-value, f p-value):\", test)\n",
    "\n",
    "# Perform Durbin-Watson test for autocorrelation\n",
    "durbin_watson_statistic = sm.stats.stattools.durbin_watson(residuals)\n",
    "print(\"Durbin-Watson Statistic:\", durbin_watson_statistic)\n",
    "\n",
    "# Perform Jarque-Bera test for normality\n",
    "jarque_bera_test = sm.stats.stattools.jarque_bera(residuals)\n",
    "#print(\"Jarque-Bera Test (JB, JB p-value, skewness, kurtosis):\", jarque_bera_test)\n",
    "\n",
    "plt.show()"
   ]
  }
 ],
 "metadata": {
  "kernelspec": {
   "display_name": "Python 3 (ipykernel)",
   "language": "python",
   "name": "python3"
  },
  "language_info": {
   "codemirror_mode": {
    "name": "ipython",
    "version": 3
   },
   "file_extension": ".py",
   "mimetype": "text/x-python",
   "name": "python",
   "nbconvert_exporter": "python",
   "pygments_lexer": "ipython3",
   "version": "3.11.5"
  }
 },
 "nbformat": 4,
 "nbformat_minor": 5
}
